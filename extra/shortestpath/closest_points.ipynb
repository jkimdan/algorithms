{
 "cells": [
  {
   "cell_type": "markdown",
   "metadata": {},
   "source": [
    "### PART A"
   ]
  },
  {
   "cell_type": "code",
   "execution_count": 45,
   "metadata": {},
   "outputs": [
    {
     "name": "stdout",
     "output_type": "stream",
     "text": [
      "x-axis:  [(1, 0), (4, 2), (5, 13), (6, 20), (25, 78), (1351, 14)]\n",
      "y-axis:  [(1, 0), (4, 2), (5, 13), (1351, 14), (6, 20), (25, 78)]\n"
     ]
    }
   ],
   "source": [
    "def merge(A, B, dim):\n",
    "    if not A:\n",
    "        return B\n",
    "    if not B:\n",
    "        return A\n",
    "\n",
    "    if A[0][dim] <= B[0][dim]:\n",
    "        return [A[0]] + merge(A[1:], B, dim)\n",
    "    else:\n",
    "        return [B[0]] + merge(A, B[1:], dim)\n",
    "    \n",
    "def mergesort(A, dim=0):\n",
    "    if len(A) > 1:\n",
    "        mid = len(A) // 2\n",
    "        left = mergesort(A[:mid], dim)\n",
    "        right = mergesort(A[mid:], dim)\n",
    "        return merge(left, right, dim)\n",
    "    else:\n",
    "        return A\n",
    "\n",
    "tuples = [(1,0),(5,13),(1351,14),(25,78), (6,20),(4,2)]\n",
    "\n",
    "print(f\"x-axis:  {mergesort(tuples, 0)}\")\n",
    "print(f\"y-axis:  {mergesort(tuples, 1)}\")\n"
   ]
  },
  {
   "cell_type": "markdown",
   "metadata": {},
   "source": [
    "### PART B"
   ]
  },
  {
   "cell_type": "code",
   "execution_count": 46,
   "metadata": {},
   "outputs": [
    {
     "name": "stdout",
     "output_type": "stream",
     "text": [
      "[(46, 20), (26, 46), (10, 14), (33, 35), (33, 19), (22, 35), (1, 29), (35, 34), (30, 34), (37, 36)]\n"
     ]
    }
   ],
   "source": [
    "import random\n",
    "\n",
    "def generate_pairs(n, x_range, y_range):\n",
    "    pairs = set()\n",
    "    while len(pairs) < n:\n",
    "        pairs.add((random.randint(*x_range), random.randint(*y_range)))\n",
    "    return list(pairs)\n",
    "\n",
    "# for grader example:\n",
    "# generating 10 pairs of x and y values ranging from 0-50\n",
    "test_pairs = generate_pairs(10, [0,50],[0,50])\n",
    "print(test_pairs)"
   ]
  },
  {
   "cell_type": "markdown",
   "metadata": {},
   "source": [
    "### PART C"
   ]
  },
  {
   "cell_type": "code",
   "execution_count": 47,
   "metadata": {},
   "outputs": [
    {
     "name": "stdout",
     "output_type": "stream",
     "text": [
      "(9, 20)\n",
      "(16, 4)\n",
      "My dist: 17.46424919657298\n",
      "Built-in math lib dist: 17.46424919657298\n"
     ]
    }
   ],
   "source": [
    "import math\n",
    "\n",
    "def dist(p1, p2):\n",
    "    return math.sqrt((p1[0] - p2[0])**2 + (p1[1] - p2[1])**2)\n",
    "\n",
    "pair = generate_pairs(1, [0,20], [0,20])[0]\n",
    "print(pair)\n",
    "pair2 = generate_pairs(1, [0,20], [0,20])[0]\n",
    "print(pair2)\n",
    "print(\"My dist:\", dist(pair, pair2))\n",
    "print(\"Built-in math lib dist:\", math.dist(pair, pair2))"
   ]
  },
  {
   "cell_type": "markdown",
   "metadata": {},
   "source": [
    "### PART D/E\n",
    "Used some google for help (closest distance query)"
   ]
  },
  {
   "cell_type": "code",
   "execution_count": 49,
   "metadata": {},
   "outputs": [
    {
     "name": "stdout",
     "output_type": "stream",
     "text": [
      "Distance between (1, 1) and (4, 4)\n",
      "Divide and Conquer: (4.242640687119285, ((1, 1), (4, 4)))\n",
      "Brute Force: (4.242640687119285, ((1, 1), (4, 4)))\n",
      "\n",
      "Random larger set\n",
      "Divide and Conquer: (1.4142135623730951, ((11, 70), (12, 71)))\n",
      "Brute Force: (1.4142135623730951, ((32, 80), (31, 81)))\n"
     ]
    }
   ],
   "source": [
    "def closest_points(points):\n",
    "    def closest_in_strip(strip, min_dist):\n",
    "        for i in range(len(strip) - 1):\n",
    "            for j in range(i + 1, len(strip)):\n",
    "                if strip[j][1] < strip[i][1]:\n",
    "                    strip[i], strip[j] = strip[j], strip[i]\n",
    "\n",
    "        min_d = min_dist\n",
    "        closest_pair = None\n",
    "        for i in range(len(strip)):\n",
    "            j = i + 1\n",
    "            while j < len(strip) and (strip[j][1] - strip[i][1] < min_d):\n",
    "                d = dist(strip[i], strip[j])\n",
    "                if d < min_d:\n",
    "                    min_d = d\n",
    "                    closest_pair = (strip[i], strip[j])\n",
    "                j += 1\n",
    "        return min_d, closest_pair\n",
    "\n",
    "    def closest_pair_rec(points_sorted_by_x):\n",
    "        n = len(points_sorted_by_x)\n",
    "        if n <= 3:\n",
    "            return brute_force_closest_points(points_sorted_by_x)\n",
    "        \n",
    "        mid = n // 2\n",
    "        mid_point = points_sorted_by_x[mid]\n",
    "        left_half = points_sorted_by_x[:mid]\n",
    "        right_half = points_sorted_by_x[mid:]\n",
    "        \n",
    "        left_min_dist, left_min_pair = closest_pair_rec(left_half)\n",
    "        right_min_dist, right_min_pair = closest_pair_rec(right_half)\n",
    "        \n",
    "        min_dist = min(left_min_dist, right_min_dist)\n",
    "        if left_min_dist <= right_min_dist:\n",
    "            min_pair = left_min_pair\n",
    "        else:\n",
    "            min_pair = right_min_pair\n",
    "        \n",
    "        strip = [p for p in points_sorted_by_x if abs(p[0] - mid_point[0]) < min_dist]\n",
    "        strip_min_dist, strip_min_pair = closest_in_strip(strip, min_dist)\n",
    "        if strip_min_dist < min_dist:\n",
    "            return strip_min_dist, strip_min_pair\n",
    "        \n",
    "        return min_dist, min_pair\n",
    "\n",
    "    points_sorted_by_x = mergesort(points, dim=0)\n",
    "    return closest_pair_rec(points_sorted_by_x)\n",
    "\n",
    "\n",
    "def brute_force_closest_points(A):\n",
    "    min_dist = float('inf')\n",
    "    closest_pair = None\n",
    "    for i in range(len(A)):\n",
    "        for j in range(i + 1, len(A)):\n",
    "            d = dist(A[i], A[j])\n",
    "            if d < min_dist:\n",
    "                min_dist = d\n",
    "                closest_pair = (A[i], A[j])\n",
    "    return min_dist, closest_pair\n",
    "\n",
    "points = [(1, 1), (4, 4)]\n",
    "print(\"Distance between (1, 1) and (4, 4)\")\n",
    "print(\"Divide and Conquer:\", closest_points(points))\n",
    "print(\"Brute Force:\", brute_force_closest_points(points))\n",
    "\n",
    "print()\n",
    "points = [(random.randint(1, 100), random.randint(1, 100)) for _ in range(100)]\n",
    "print(\"Random larger set\")\n",
    "print(\"Divide and Conquer:\", closest_points(points))\n",
    "print(\"Brute Force:\", brute_force_closest_points(points))"
   ]
  },
  {
   "cell_type": "markdown",
   "metadata": {},
   "source": [
    "### PART F"
   ]
  },
  {
   "cell_type": "code",
   "execution_count": 50,
   "metadata": {},
   "outputs": [
    {
     "data": {
      "image/png": "[encoded data removed]",
      "text/plain": [
       "<Figure size 1000x600 with 1 Axes>"
      ]
     },
     "metadata": {},
     "output_type": "display_data"
    }
   ],
   "source": [
    "from time import perf_counter\n",
    "import matplotlib.pyplot as plt\n",
    "\n",
    "def compare_methods(max, step):\n",
    "    pair_counts = list(range(step, max + 1, step))\n",
    "    avg_times_static = []\n",
    "    avg_times_dynamic = []\n",
    "\n",
    "    for count in pair_counts:\n",
    "        pairs = generate_pairs(count, (0, 100), (0, 100))\n",
    "        \n",
    "        start_time = perf_counter()\n",
    "        brute_force_closest_points(pairs)\n",
    "        end_time = perf_counter()\n",
    "        avg_times_static.append(end_time - start_time)\n",
    "        \n",
    "        start_time = perf_counter()\n",
    "        closest_points(pairs)\n",
    "        end_time = perf_counter()\n",
    "        avg_times_dynamic.append(end_time - start_time)\n",
    "    \n",
    "    return pair_counts, avg_times_static, avg_times_dynamic\n",
    "\n",
    "def plot_runtimes(pair_counts, avg_times_static, avg_times_dynamic):\n",
    "    plt.figure(figsize=(10, 6))\n",
    "    plt.plot(pair_counts, avg_times_static, label='Brute Force', marker='o')\n",
    "    plt.plot(pair_counts, avg_times_dynamic, label='Divide and Conquer', marker='x')\n",
    "    plt.xlabel('Number of Pairs')\n",
    "    plt.ylabel('Average Runtime (seconds)')\n",
    "    plt.title('Average Runtime vs. Number of Pairs')\n",
    "    plt.legend()\n",
    "    plt.grid(True)\n",
    "    plt.show()\n",
    "\n",
    "max_pairs = 1000  \n",
    "step = 100  \n",
    "\n",
    "pair_counts, avg_times_static, avg_times_dynamic = compare_methods(max_pairs, step)\n",
    "plot_runtimes(pair_counts, avg_times_static, avg_times_dynamic)"
   ]
  },
  {
   "cell_type": "markdown",
   "metadata": {},
   "source": [
    "### PART G"
   ]
  },
  {
   "cell_type": "code",
   "execution_count": null,
   "metadata": {},
   "outputs": [],
   "source": [
    "def visualize_points(points):\n",
    "    x = [point[0] for point in points]\n",
    "    y = [point[1] for point in points]\n",
    "\n",
    "    _, closest_pair = \n",
    "    closest_xs = [closest_pair[0][0], closest_pair[1][0]]\n",
    "    closest_ys = [closest_pair[0][1], closest_pair[1][1]]\n",
    "    plt.figure(figsize=(10, 6))\n",
    "    plt.scatter(x, y, color='blue', label='Points')  # Scatter plot of all points\n",
    "    plt.scatter(closest_xs, closest_ys, color='red', s=100, edgecolors='black', label='Closest Pair')  # Highlight closest pair\n",
    "    plt.plot(closest_xs, closest_ys, color='green', linestyle='--', linewidth=2, markersize=15, label='Line Segment')  # Line segment between closest pair\n",
    "\n",
    "    # Adding labels and legend\n",
    "    plt.xlabel('X coordinate')\n",
    "    plt.ylabel('Y coordinate')\n",
    "    plt.title('Scatter Plot with Closest Pair Highlighted')\n",
    "    plt.legend()\n",
    "    plt.grid(True)\n",
    "    plt.show()\n",
    "\n",
    "\n"
   ]
  }
 ],
 "metadata": {
  "kernelspec": {
   "display_name": "Python 3",
   "language": "python",
   "name": "python3"
  },
  "language_info": {
   "codemirror_mode": {
    "name": "ipython",
    "version": 3
   },
   "file_extension": ".py",
   "mimetype": "text/x-python",
   "name": "python",
   "nbconvert_exporter": "python",
   "pygments_lexer": "ipython3",
   "version": "3.9.7"
  }
 },
 "nbformat": 4,
 "nbformat_minor": 2
}
